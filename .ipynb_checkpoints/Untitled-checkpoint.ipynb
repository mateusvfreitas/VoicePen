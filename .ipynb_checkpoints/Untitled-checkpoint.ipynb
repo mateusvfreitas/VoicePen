{
 "cells": [
  {
   "cell_type": "code",
   "execution_count": 19,
   "id": "f7e991e8",
   "metadata": {},
   "outputs": [],
   "source": [
    "from time import sleep\n",
    "import math\n",
    "import numpy as np\n",
    "import pandas as pd\n",
    "import json"
   ]
  },
  {
   "cell_type": "code",
   "execution_count": 85,
   "id": "eed9573b",
   "metadata": {},
   "outputs": [],
   "source": [
    "filename = \"text2.json\"\n",
    "\n",
    "with open(filename, \"r\") as line_file:\n",
    "    lines = json.load(line_file)"
   ]
  },
  {
   "cell_type": "code",
   "execution_count": 86,
   "id": "5fea0a72",
   "metadata": {},
   "outputs": [],
   "source": [
    "# getting all points\n",
    "points = []\n",
    "for line in lines:\n",
    "    for point in line:\n",
    "        points.append(point)"
   ]
  },
  {
   "cell_type": "code",
   "execution_count": 87,
   "id": "2dbc2397",
   "metadata": {},
   "outputs": [
    {
     "name": "stdout",
     "output_type": "stream",
     "text": [
      "      x   y\n",
      "0    25  30\n",
      "1    31  30\n",
      "2    25  35\n",
      "3    31  35\n",
      "4   119  40\n",
      "5   149  40\n",
      "6    25  41\n",
      "7    31  41\n",
      "8   127  47\n",
      "9   142  47\n",
      "10  127  63\n",
      "11  142  63\n",
      "12   25  70\n",
      "13   31  70\n",
      "14  119  70\n",
      "15  149  70\n",
      "16   25  30\n",
      "17   25  35\n",
      "18   25  41\n",
      "19   25  70\n",
      "20   31  30\n",
      "21   31  35\n",
      "22   31  41\n",
      "23   31  70\n",
      "24  119  40\n",
      "25  119  70\n",
      "26  126  48\n",
      "27  126  62\n",
      "28  143  48\n",
      "29  143  62\n",
      "30  149  40\n",
      "31  149  70\n"
     ]
    }
   ],
   "source": [
    "pts = pd.DataFrame(points, columns=['x', 'y'])\n",
    "print(pts)"
   ]
  },
  {
   "cell_type": "code",
   "execution_count": 89,
   "id": "c4173f3f",
   "metadata": {},
   "outputs": [
    {
     "name": "stdout",
     "output_type": "stream",
     "text": [
      "max_x: 149 \tmax_y: 70\n",
      "min_x: 25 \tmin_y: 30\n"
     ]
    }
   ],
   "source": [
    "max_x, max_y = max(pts.iloc[:,0]), max(pts.iloc[:,1])\n",
    "print(f'max_x: {max_x} \\tmax_y: {max_y}')\n",
    "\n",
    "min_x, min_y = min(pts.iloc[:,0]), min(pts.iloc[:,1])\n",
    "print(f'min_x: {min_x} \\tmin_y: {min_y}')"
   ]
  },
  {
   "cell_type": "code",
   "execution_count": 90,
   "id": "dd97b703",
   "metadata": {},
   "outputs": [],
   "source": [
    "bounds=[-8, 6, 4, 12]"
   ]
  },
  {
   "cell_type": "code",
   "execution_count": 91,
   "id": "12e4a0ce",
   "metadata": {},
   "outputs": [
    {
     "name": "stdout",
     "output_type": "stream",
     "text": [
      "0.0967741935483871\n",
      "0.15\n",
      "0.0967741935483871\n"
     ]
    }
   ],
   "source": [
    "scale_x = (bounds[2] - bounds[0]) / (max_x - min_x)\n",
    "scale_y = (bounds[3] - bounds[1]) / (max_y - min_y)\n",
    "\n",
    "factor = min([scale_x, scale_y])\n",
    "\n",
    "print(scale_x)\n",
    "print(scale_y)\n",
    "print(factor)"
   ]
  },
  {
   "cell_type": "code",
   "execution_count": 92,
   "id": "41c6bb62",
   "metadata": {},
   "outputs": [
    {
     "name": "stdout",
     "output_type": "stream",
     "text": [
      "            x         y\n",
      "0    2.419355  2.903226\n",
      "1    3.000000  2.903226\n",
      "2    2.419355  3.387097\n",
      "3    3.000000  3.387097\n",
      "4   11.516129  3.870968\n",
      "5   14.419355  3.870968\n",
      "6    2.419355  3.967742\n",
      "7    3.000000  3.967742\n",
      "8   12.290323  4.548387\n",
      "9   13.741935  4.548387\n",
      "10  12.290323  6.096774\n",
      "11  13.741935  6.096774\n",
      "12   2.419355  6.774194\n",
      "13   3.000000  6.774194\n",
      "14  11.516129  6.774194\n",
      "15  14.419355  6.774194\n",
      "16   2.419355  2.903226\n",
      "17   2.419355  3.387097\n",
      "18   2.419355  3.967742\n",
      "19   2.419355  6.774194\n",
      "20   3.000000  2.903226\n",
      "21   3.000000  3.387097\n",
      "22   3.000000  3.967742\n",
      "23   3.000000  6.774194\n",
      "24  11.516129  3.870968\n",
      "25  11.516129  6.774194\n",
      "26  12.193548  4.645161\n",
      "27  12.193548  6.000000\n",
      "28  13.838710  4.645161\n",
      "29  13.838710  6.000000\n",
      "30  14.419355  3.870968\n",
      "31  14.419355  6.774194\n"
     ]
    }
   ],
   "source": [
    "pts_scaled = pts * factor\n",
    "print(pts_scaled)"
   ]
  },
  {
   "cell_type": "code",
   "execution_count": 93,
   "id": "bb9407c1",
   "metadata": {},
   "outputs": [
    {
     "name": "stdout",
     "output_type": "stream",
     "text": [
      "Bounds: X(-8 -> 4) Y(6 -> 12)\n",
      "-157\n",
      "3.096774193548387\n",
      "           x         y\n",
      "0  -8.000000  6.000000\n",
      "1  -7.419355  6.000000\n",
      "2  -8.000000  6.483871\n",
      "3  -7.419355  6.483871\n",
      "4   1.096774  6.967742\n",
      "5   4.000000  6.967742\n",
      "6  -8.000000  7.064516\n",
      "7  -7.419355  7.064516\n",
      "8   1.870968  7.645161\n",
      "9   3.322581  7.645161\n",
      "10  1.870968  9.193548\n",
      "11  3.322581  9.193548\n",
      "12 -8.000000  9.870968\n",
      "13 -7.419355  9.870968\n",
      "14  1.096774  9.870968\n",
      "15  4.000000  9.870968\n",
      "16 -8.000000  6.000000\n",
      "17 -8.000000  6.483871\n",
      "18 -8.000000  7.064516\n",
      "19 -8.000000  9.870968\n",
      "20 -7.419355  6.000000\n",
      "21 -7.419355  6.483871\n",
      "22 -7.419355  7.064516\n",
      "23 -7.419355  9.870968\n",
      "24  1.096774  6.967742\n",
      "25  1.096774  9.870968\n",
      "26  1.774194  7.741935\n",
      "27  1.774194  9.096774\n",
      "28  3.419355  7.741935\n",
      "29  3.419355  9.096774\n",
      "30  4.000000  6.967742\n",
      "31  4.000000  9.870968\n"
     ]
    }
   ],
   "source": [
    "min_x, min_y = min(pts_scaled.iloc[:,0]), min(pts_scaled.iloc[:,1])\n",
    "pts_scaled.iloc[:,0] = pts_scaled.iloc[:,0] + (bounds[0] - min_x)\n",
    "pts_scaled.iloc[:,1] = pts_scaled.iloc[:,1] + (bounds[1] - min_y)\n",
    "\n",
    "print(f'Bounds: X({bounds[0]} -> {bounds[2]}) Y({bounds[1]} -> {bounds[3]})')\n",
    "print((bounds[0] - max_x))\n",
    "print((bounds[1] - min_y))\n",
    "print(pts_scaled)"
   ]
  },
  {
   "cell_type": "code",
   "execution_count": 94,
   "id": "bb95a124",
   "metadata": {},
   "outputs": [],
   "source": [
    "move_x = bounds[0] - min_x\n",
    "move_y = bounds[1] - min_y"
   ]
  },
  {
   "cell_type": "code",
   "execution_count": 95,
   "id": "6a240fbb",
   "metadata": {},
   "outputs": [
    {
     "name": "stdout",
     "output_type": "stream",
     "text": [
      "[[[25, 30], [31, 30]], [[25, 35], [31, 35]], [[119, 40], [149, 40]], [[25, 41], [31, 41]], [[127, 47], [142, 47]], [[127, 63], [142, 63]], [[25, 70], [31, 70]], [[119, 70], [149, 70]], [[25, 30], [25, 35]], [[25, 41], [25, 70]], [[31, 30], [31, 35]], [[31, 41], [31, 70]], [[119, 40], [119, 70]], [[126, 48], [126, 62]], [[143, 48], [143, 62]], [[149, 40], [149, 70]]]\n"
     ]
    }
   ],
   "source": [
    "print(lines)\n",
    "for line in lines:\n",
    "    for point in line:\n",
    "        point[0] = round((point[0] * factor) + move_x, 4)\n",
    "        point[1] = round((point[1] * factor) + move_y, 4)"
   ]
  },
  {
   "cell_type": "code",
   "execution_count": 96,
   "id": "4c72869e",
   "metadata": {},
   "outputs": [
    {
     "name": "stdout",
     "output_type": "stream",
     "text": [
      "[[[-8.0, 6.0], [-7.4194, 6.0]], [[-8.0, 6.4839], [-7.4194, 6.4839]], [[1.0968, 6.9677], [4.0, 6.9677]], [[-8.0, 7.0645], [-7.4194, 7.0645]], [[1.871, 7.6452], [3.3226, 7.6452]], [[1.871, 9.1935], [3.3226, 9.1935]], [[-8.0, 9.871], [-7.4194, 9.871]], [[1.0968, 9.871], [4.0, 9.871]], [[-8.0, 6.0], [-8.0, 6.4839]], [[-8.0, 7.0645], [-8.0, 9.871]], [[-7.4194, 6.0], [-7.4194, 6.4839]], [[-7.4194, 7.0645], [-7.4194, 9.871]], [[1.0968, 6.9677], [1.0968, 9.871]], [[1.7742, 7.7419], [1.7742, 9.0968]], [[3.4194, 7.7419], [3.4194, 9.0968]], [[4.0, 6.9677], [4.0, 9.871]]]\n"
     ]
    }
   ],
   "source": [
    "print(lines)"
   ]
  },
  {
   "cell_type": "code",
   "execution_count": null,
   "id": "5a5927a8",
   "metadata": {},
   "outputs": [],
   "source": []
  }
 ],
 "metadata": {
  "kernelspec": {
   "display_name": "Python 3",
   "language": "python",
   "name": "python3"
  },
  "language_info": {
   "codemirror_mode": {
    "name": "ipython",
    "version": 3
   },
   "file_extension": ".py",
   "mimetype": "text/x-python",
   "name": "python",
   "nbconvert_exporter": "python",
   "pygments_lexer": "ipython3",
   "version": "3.6.3"
  }
 },
 "nbformat": 4,
 "nbformat_minor": 5
}
